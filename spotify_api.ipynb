{
 "cells": [
  {
   "cell_type": "code",
   "execution_count": 2,
   "id": "096bcd1f",
   "metadata": {},
   "outputs": [],
   "source": [
    "# Imports and vars\n",
    "import spotipy\n",
    "from spotipy.oauth2 import SpotifyClientCredentials\n",
    "import cred"
   ]
  },
  {
   "cell_type": "code",
   "execution_count": 3,
   "id": "2f3800a0",
   "metadata": {},
   "outputs": [],
   "source": [
    "# Authentication - without user\n",
    "client_credentials_manager = SpotifyClientCredentials(client_id= cred.client_id, client_secret= cred.client_secret)\n",
    "sp = spotipy.Spotify(client_credentials_manager = client_credentials_manager)"
   ]
  },
  {
   "cell_type": "code",
   "execution_count": 46,
   "id": "3ed35ab8",
   "metadata": {},
   "outputs": [
    {
     "name": "stdout",
     "output_type": "stream",
     "text": [
      "Quando a Minha Vida Vai Começar? - Enrolados (Trilha Sonora Original)\n",
      "No Verão - Frozen: Uma Aventura Congelante (Trilha Sonora Original)\n",
      "Uma Vez Na Eternidade - Frozen: Uma Aventura Congelante (Trilha Sonora Original)\n",
      "Vejo Enfim a Luz Brilhar - Enrolados (Trilha Sonora Original)\n",
      "Alguma Coisa Acontece - A Bela e A Fera (Trilha Sonora Original em Português)\n",
      "Bela (Reprise) - A Bela e A Fera (Trilha Sonora Original em Português)\n",
      "Reparos - Frozen: Uma Aventura Congelante (Trilha Sonora Original)\n",
      "Saber Quem Sou - Moana: um mar de aventuras (Trilha sonora original em português)\n",
      "Lá em Nova Orleans (Down in New Orleans) - Princesas Disney 2\n",
      "Encanto da Cura - Enrolados (Trilha Sonora Original)\n",
      "De nada - Moana: um mar de aventuras (Trilha sonora original em português)\n",
      "Bela - A Bela e A Fera (Trilha Sonora Original em Português)\n",
      "Rena É Melhor do Que Gente - Frozen: Uma Aventura Congelante (Trilha Sonora Original)\n",
      "Um Mundo Ideal (A Whole New World) - Eliana 2001\n",
      "A Noite Da Arábia (2019) - Aladdin (Trilha Sonora Original em Português)\n",
      "Amigos do Outro Lado - Disney Vilões\n",
      "Ciclo Sem Fim - Ciclo Sem Fim\n",
      "Príncipe Ali - Aladdin (Trilha Sonora Original em Português)\n",
      "Lava - From \"Lava\" - Lava (From \"Lava\")\n",
      "Correr Para Viver - Aladdin (Trilha Sonora Original em Português)\n",
      "Quem Dorme É O Leão - O Rei Leão (Trilha Sonora Original em Português)\n",
      "Ciclo Sem Fim/Nants’ Ingonyama - O Rei Leão (Trilha Sonora Original em Português)\n",
      "Ninguém Me Cala (Parte 2) - Aladdin (Trilha Sonora Original em Português)\n",
      "Nesta Noite o Amor Chegou - O Rei Leão (Trilha Sonora Original em Português)\n",
      "Ninguém Me Cala (Versão Completa) - Aladdin (Trilha Sonora Original em Português)\n",
      "You've Got a Friend in Me - From \"Toy Story\"/Soundtrack Version - Toy Story\n",
      "Eu Quero Saber - O Show da Luna\n",
      "Under the Sea - The Little Mermaid Special Edition\n",
      "Can You Feel the Love Tonight - The Lion King (Original Motion Picture Soundtrack)\n",
      "Lembre-se - O Rei Leão (Trilha Sonora Original em Português)\n",
      "Let It Go - From \"Frozen / Single Version - Demi (Deluxe)\n",
      "A Whole New World (End Title) - From \"Aladdin\" - A Whole New World (End Title) [From \"Aladdin\"]\n",
      "Ninguém Me Cala (Parte 1) - Aladdin (Trilha Sonora Original em Português)\n",
      "Circle of Life - From \"The Lion King\"/ Soundtrack - The Lion King\n",
      "Seu Lugar - Moana: um mar de aventuras (Trilha sonora original em português)\n",
      "Gélido Coração - Frozen: Uma Aventura Congelante (Trilha Sonora Original)\n",
      "Gaston - Brazilian Version - Disney Vilões\n",
      "Preparados - Disney Vilões\n",
      "Pra Ir Além - Moana: um mar de aventuras (Trilha sonora original em português)\n",
      "I Just Can't Wait to Be King - The Lion King (Original Motion Picture Soundtrack)\n",
      "Part of Your World - The Little Mermaid Special Edition\n",
      "SPIRIT - From Disney's \"The Lion King\" - The Lion King: The Gift\n",
      "Belle - Beauty and the Beast (Original Motion Picture Soundtrack/Deluxe Edition)\n",
      "Teu Nome eu Sei - Moana: um mar de aventuras (Trilha sonora original em português)\n",
      "Nunca Mais - A Bela e A Fera (Trilha Sonora Original em Português)\n",
      "Lembre de Mim (Reencontro) - Viva - A Vida é uma Festa (Trilha Sonora Original em Português)\n",
      "Correr Para Viver (Reprise 2) - Aladdin (Trilha Sonora Original em Português)\n",
      "As Festas Que O Sino Nos Traz - Olaf em Uma Nova Aventura Congelante de Frozen (Trilha Sonora Original em Português)\n",
      "Canção da Multidão - A Bela e a Fera\n",
      "Para Ir Além - Final - Moana: um mar de aventuras (Trilha sonora original em português)\n",
      "Humano Outra Vez - A Bela e a Fera\n",
      "Speechless (Full) - Aladdin (Original Motion Picture Soundtrack)\n",
      "Gaston - A Bela e A Fera (Trilha Sonora Original em Português)\n",
      "Quer Brincar Na Neve? - Frozen: Uma Aventura Congelante (Trilha Sonora Original)\n",
      "Sua Mãe Sabe Mais - Enrolados (Trilha Sonora Original)\n",
      "Saber Quem Sou, segunda parte - Bis - Moana: um mar de aventuras (Trilha sonora original em português)\n",
      "Um Mundo Ideal - Aladdin (Trilha Sonora Original em Português)\n",
      "Nunca Teve Um Amigo Assim - Aladdin (Trilha Sonora Original em Português)\n",
      "Hakuna Matata - O Rei Leão (Trilha Sonora Original em Português)\n",
      "A Bela e A Fera - A Bela e A Fera (Trilha Sonora Original em Português)\n",
      "O Que Eu Quero Mais É Ser Rei - O Rei Leão (Trilha Sonora Original em Português)\n",
      "Seja A Nossa Convidada - A Bela e A Fera (Trilha Sonora Original em Português)\n",
      "Brilhe - Moana: um mar de aventuras (Trilha sonora original em português)\n",
      "Um Sonho Eu Tenho - Enrolados (Trilha Sonora Original)\n",
      "Sonhar É Desejar - Princesas Disney 2\n",
      "Deixa Brilhar - The Glow - Princesas Disney 2\n",
      "A Bela e A Fera (Final) - A Bela e A Fera (Trilha Sonora Original em Português)\n",
      "Se Preparem (2019) - O Rei Leão (Trilha Sonora Original em Português)\n",
      "Hakuna Matata - From \"The Lion King\"/Soundtrack - The Lion King\n",
      "Vejo Uma Porta Abrir - Frozen: Uma Aventura Congelante (Trilha Sonora Original)\n",
      "Livre Estou - Frozen: Uma Aventura Congelante (Trilha Sonora Original)\n",
      "Canção Ancestral - Moana: um mar de aventuras (Trilha sonora original em português)\n",
      "Quando a Minha Vida Vai Começar? - Reprise 1 - Enrolados (Trilha Sonora Original)\n",
      "Minha Intuição - Frozen 2 (Trilha Sonora Original em Português/Edição Deluxe)\n",
      "Amigo Estou Aqui - Toy Story 4 (Trilha Sonora Original em Português)\n",
      "Le Festin - Ratatouille (Original Motion Picture Soundtrack)\n"
     ]
    }
   ],
   "source": [
    "top_globals_uri = \"37i9dQZEVXbNG2KDcFcKOF?si=77d8f5cd51cd478d\"\n",
    "best_of_all_uri = \"6PPayXaPylORShOqea9n9S?si=94e26f660488407b\"\n",
    "disney_test_uri = \"1uaHLzRPa406tDisDEeDFd?si=42f5f7306a554cd7\"\n",
    "\n",
    "# track[\"track\"].keys() = ['album', 'artists', 'available_markets', 'disc_number', 'duration_ms', 'episode', 'explicit',\n",
    "#'external_ids', 'external_urls', 'href', 'id', 'is_local', 'name', 'popularity', 'preview_url', 'track', 'track_number',\n",
    "#'type', 'uri']\n",
    "#for track in sp.playlist_tracks(top_globals_uri)[\"tracks\"][\"items\"]:\n",
    "#    print(track[\"track\"][\"name\"])\n",
    "    \n",
    "for track in sp.playlist_tracks(disney_test_uri)[\"tracks\"][\"items\"]:\n",
    "    print(track[\"track\"][\"name\"] + \" - \" + track[\"track\"][\"album\"][\"name\"])"
   ]
  },
  {
   "cell_type": "code",
   "execution_count": 2,
   "id": "61dcd7c4",
   "metadata": {},
   "outputs": [],
   "source": [
    "# From a category and ID, a uri is generated\n",
    "def generate_uri(category, id):\n",
    "    return \"spotify:\" + category + \":\" + id"
   ]
  }
 ],
 "metadata": {
  "kernelspec": {
   "display_name": "Python 3 (ipykernel)",
   "language": "python",
   "name": "python3"
  },
  "language_info": {
   "codemirror_mode": {
    "name": "ipython",
    "version": 3
   },
   "file_extension": ".py",
   "mimetype": "text/x-python",
   "name": "python",
   "nbconvert_exporter": "python",
   "pygments_lexer": "ipython3",
   "version": "3.8.8"
  }
 },
 "nbformat": 4,
 "nbformat_minor": 5
}
