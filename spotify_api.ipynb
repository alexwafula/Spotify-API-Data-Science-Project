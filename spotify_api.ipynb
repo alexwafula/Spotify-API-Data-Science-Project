{
 "cells": [
  {
   "cell_type": "markdown",
   "id": "8e1f27cf",
   "metadata": {},
   "source": [
    "# Spotify Playlist Analysis\n",
    "\n",
    "From the Spotify API, this project will tell some interesting information about a public playlist.\n",
    "\n",
    "The **spotipy** package is used during the whole project in order to help the connection and usage with the Spotify API. The link for the spotipy documentation is the following: https://spotipy.readthedocs.io/en/2.19.0/\n",
    "\n",
    "Interesting Spotipy functions to explore: \n",
    "- artist_top_tracks\n",
    "- artist_albums\n",
    "- album"
   ]
  },
  {
   "cell_type": "code",
   "execution_count": 1,
   "id": "096bcd1f",
   "metadata": {},
   "outputs": [],
   "source": [
    "# Imports and authetication\n",
    "import spotipy\n",
    "from spotipy.oauth2 import SpotifyClientCredentials\n",
    "import cred\n",
    "import datetime\n",
    "import pandas as pd\n",
    "from collections import Counter\n",
    "from itertools import chain\n",
    "\n",
    "# Authentication - without user\n",
    "client_credentials_manager = SpotifyClientCredentials(client_id= cred.client_id, client_secret= cred.client_secret)\n",
    "sp = spotipy.Spotify(client_credentials_manager = client_credentials_manager)"
   ]
  },
  {
   "cell_type": "code",
   "execution_count": 2,
   "id": "9d4e8c86",
   "metadata": {},
   "outputs": [],
   "source": [
    "# Functions\n",
    "\n",
    "# From a playlist link, this function return its URI\n",
    "def get_id_playlist(playlist_link):\n",
    "    return playlist_link.split(\"/\")[-1].split('?')[0]\n",
    "\n",
    "# From a category and ID, an URI is generated\n",
    "def generate_uri(category, id):\n",
    "    return \"spotify:\" + category + \":\" + id\n",
    "\n",
    "# From a playlist link, get the main information of the playlist\n",
    "def playlist_info(playlist_link):\n",
    "    playlist = sp.playlist(get_id_playlist(playlist_link))\n",
    "    info = {\n",
    "        'cover': sp.playlist_cover_image(get_id_playlist(playlist_link))[0]['url'],\n",
    "        'name': playlist[\"name\"],\n",
    "        'description': playlist[\"description\"],\n",
    "        'owner': playlist[\"owner\"][\"display_name\"] # Other information of the owner also available\n",
    "    }\n",
    "    return info\n",
    "\n",
    "# From a playlist link, creates a Pandas DataFrame with the tracks information\n",
    "def create_playlist_df(playlist_link):\n",
    "    playlist_id = get_id_playlist(playlist_link)\n",
    "        \n",
    "    tracks = sp.playlist_tracks(playlist_id)\n",
    "    total_tracks = tracks[\"total\"]\n",
    "    print(\"Number of tracks on the playlist: \" + str(total_tracks))\n",
    "    \n",
    "    tracks_playlist = []\n",
    "    \n",
    "    while True:    \n",
    "        for track in tracks[\"items\"]:\n",
    "            t_id = track[\"track\"][\"id\"]\n",
    "            name = track[\"track\"][\"name\"]\n",
    "            album = track[\"track\"][\"album\"][\"name\"]\n",
    "            duration = datetime.timedelta(seconds=int(track[\"track\"][\"duration_ms\"]/1000))\n",
    "            popularity = track[\"track\"][\"popularity\"]\n",
    "            n_artists = len(track[\"track\"][\"artists\"])\n",
    "\n",
    "            artist = \"\"\n",
    "            for i in range(n_artists):\n",
    "                name_artist = track[\"track\"][\"artists\"][i][\"name\"]\n",
    "                if artist == \"\":\n",
    "                    artist = name_artist\n",
    "                else:\n",
    "                    artist = artist + \", \" + name_artist\n",
    "\n",
    "            track_info = {\n",
    "                'id': t_id,\n",
    "                'name': name,\n",
    "                'album': album,\n",
    "                'duration': duration,\n",
    "                'popularity': popularity,\n",
    "                'artist(s)': artist\n",
    "            }\n",
    "            tracks_playlist.append(track_info)\n",
    "        if tracks[\"next\"]:\n",
    "            tracks = sp.next(tracks)\n",
    "        else:\n",
    "            break\n",
    "        \n",
    "    return pd.DataFrame(tracks_playlist)\n",
    "\n",
    "# Return top 5 artists with most tracks apperances on a playlist\n",
    "def top_artists_playlist(playlist_df):\n",
    "    artists = playlist_df['artist(s)']\n",
    "    res = pd.DataFrame.from_dict(Counter(map(str.strip, chain.from_iterable(artists.str.split(',')))),\n",
    "                             orient='index').squeeze()\n",
    "\n",
    "    return res.sort_values(ascending=False)[0:5]\n",
    "\n",
    "# Return top 5 albums with most tracks apperances on a playlist\n",
    "def top_albums_playlist(playlist_df):\n",
    "    return playlist_df.groupby(['album'])['album'].count().sort_values(ascending=False)[0:5]"
   ]
  },
  {
   "cell_type": "code",
   "execution_count": 6,
   "id": "e0b10071",
   "metadata": {
    "scrolled": false
   },
   "outputs": [
    {
     "name": "stdout",
     "output_type": "stream",
     "text": [
      "Number of tracks on the playlist: 52\n",
      "MC PR          4\n",
      "MC Braz        3\n",
      "Mc Frog        3\n",
      "Mc Delux       3\n",
      "DJ Jeeh FDC    2\n",
      "Name: 0, dtype: int64\n",
      "\n",
      "\n",
      "album\n",
      "AUTOMOTIVO DAS UMBRELLA        1\n",
      "AUTOMOTIVO EXTRADIMENSIONAL    1\n",
      "O Porte da 40                  1\n",
      "ONDA DO BERIMBAU               1\n",
      "Pegada de Malvado              1\n",
      "Name: album, dtype: int64\n"
     ]
    },
    {
     "data": {
      "text/plain": [
       "id            4NJKCE1TBC653P3dCnto0u\n",
       "name                Simplesmente Ela\n",
       "album               Simplesmente Ela\n",
       "duration             0 days 00:02:41\n",
       "popularity                        80\n",
       "artist(s)                  Mc Gabzin\n",
       "Name: 44, dtype: object"
      ]
     },
     "execution_count": 6,
     "metadata": {},
     "output_type": "execute_result"
    }
   ],
   "source": [
    "playlist_best_of_all = create_playlist_df(\"https://open.spotify.com/playlist/3F16u8SWwyeHTQzjMb5Nxg\")\n",
    "print(top_artists_playlist(playlist_best_of_all))\n",
    "print(\"\\n\")\n",
    "print(top_albums_playlist(playlist_best_of_all))\n",
    "playlist_best_of_all.head()\n",
    "\n",
    "loc_max = playlist_best_of_all[\"popularity\"].idxmax()\n",
    "playlist_best_of_all.iloc[loc_max]"
   ]
  },
  {
   "cell_type": "code",
   "execution_count": null,
   "id": "16d2c64b",
   "metadata": {},
   "outputs": [],
   "source": []
  }
 ],
 "metadata": {
  "kernelspec": {
   "display_name": "Python 3 (ipykernel)",
   "language": "python",
   "name": "python3"
  },
  "language_info": {
   "codemirror_mode": {
    "name": "ipython",
    "version": 3
   },
   "file_extension": ".py",
   "mimetype": "text/x-python",
   "name": "python",
   "nbconvert_exporter": "python",
   "pygments_lexer": "ipython3",
   "version": "3.8.8"
  }
 },
 "nbformat": 4,
 "nbformat_minor": 5
}
