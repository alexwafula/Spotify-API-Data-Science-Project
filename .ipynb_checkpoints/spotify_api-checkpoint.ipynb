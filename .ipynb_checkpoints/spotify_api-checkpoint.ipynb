{
 "cells": [
  {
   "cell_type": "markdown",
   "id": "8e1f27cf",
   "metadata": {},
   "source": [
    "# Spotify Playlist Analysis\n",
    "\n",
    "From the Spotify API, this project will tell some interesting information about a public playlist.\n",
    "\n",
    "The **spotipy** package is used during the whole project in order to help the connection and usage with the Spotify API. The link for the spotipy documentation is the following: https://spotipy.readthedocs.io/en/2.19.0/"
   ]
  },
  {
   "cell_type": "code",
   "execution_count": 184,
   "id": "096bcd1f",
   "metadata": {},
   "outputs": [],
   "source": [
    "# Imports and authetication\n",
    "import spotipy\n",
    "from spotipy.oauth2 import SpotifyClientCredentials\n",
    "import cred\n",
    "import datetime\n",
    "import pandas as pd\n",
    "\n",
    "# Authentication - without user\n",
    "client_credentials_manager = SpotifyClientCredentials(client_id= cred.client_id, client_secret= cred.client_secret)\n",
    "sp = spotipy.Spotify(client_credentials_manager = client_credentials_manager)"
   ]
  },
  {
   "cell_type": "code",
   "execution_count": 185,
   "id": "9d4e8c86",
   "metadata": {},
   "outputs": [],
   "source": [
    "# Functions\n",
    "\n",
    "# From a playlist link, this function return its URI\n",
    "def get_id_playlist(playlist_link):\n",
    "    return playlist_link.split(\"/\")[-1].split('?')[0]\n",
    "\n",
    "# From a category and ID, an URI is generated\n",
    "def generate_uri(category, id):\n",
    "    return \"spotify:\" + category + \":\" + id\n",
    "\n",
    "# From a playlist link, get the main information of the playlist\n",
    "def playlist_info(playlist_link):\n",
    "    playlist = sp.playlist(get_id_playlist(playlist_link))\n",
    "    info = {\n",
    "        'cover': sp.playlist_cover_image(get_id_playlist(playlist_link))[0]['url'],\n",
    "        'name': playlist[\"name\"],\n",
    "        'description': playlist[\"description\"],\n",
    "        'owner': playlist[\"owner\"][\"display_name\"] # Other information of the owner also available\n",
    "    }\n",
    "    return info"
   ]
  },
  {
   "cell_type": "markdown",
   "id": "4d7c404d",
   "metadata": {},
   "source": [
    "Funções interessantes de Spotipy: \n",
    "- artist_top_tracks\n",
    "- artist_albums\n",
    "- album"
   ]
  },
  {
   "cell_type": "code",
   "execution_count": 186,
   "id": "3ed35ab8",
   "metadata": {},
   "outputs": [],
   "source": [
    "top_globals_url = \"https://open.spotify.com/playlist/37i9dQZEVXbNG2KDcFcKOF?si=c98c2430d6bc45ea\"\n",
    "\n",
    "# track[\"track\"].keys() = [artists',\n",
    "\n",
    "def create_playlist_df(playlist_link):\n",
    "    playlist_id = get_id_playlist(playlist_link)\n",
    "        \n",
    "    tracks = sp.playlist_tracks(playlist_id)\n",
    "    total_tracks = tracks[\"total\"]\n",
    "    \n",
    "    tracks_playlist = []\n",
    "        \n",
    "    for track in tracks[\"items\"]:\n",
    "        t_id = track[\"track\"][\"id\"]\n",
    "        name = track[\"track\"][\"name\"]\n",
    "        album = track[\"track\"][\"album\"][\"name\"]\n",
    "        duration = datetime.timedelta(seconds=int(track[\"track\"][\"duration_ms\"]/1000))\n",
    "        popularity = track[\"track\"][\"popularity\"]\n",
    "        n_artists = len(track[\"track\"][\"artists\"])\n",
    "        \n",
    "        artist = \"\"\n",
    "        for i in range(n_artists):\n",
    "            name_artist = track[\"track\"][\"artists\"][i][\"name\"]\n",
    "            if artist == \"\":\n",
    "                artist = name_artist\n",
    "            else:\n",
    "                artist = artist + \", \" + name_artist\n",
    "                \n",
    "        track_info = {\n",
    "            'id': t_id,\n",
    "            'name': name,\n",
    "            'album': album,\n",
    "            'duration': duration,\n",
    "            'popularity': popularity,\n",
    "            'artist(s)': artist\n",
    "        }\n",
    "        tracks_playlist.append(track_info)\n",
    "        \n",
    "    return pd.DataFrame(tracks_playlist)"
   ]
  },
  {
   "cell_type": "code",
   "execution_count": 189,
   "id": "aae119bc",
   "metadata": {},
   "outputs": [
    {
     "data": {
      "text/plain": [
       "pandas._libs.tslibs.timedeltas.Timedelta"
      ]
     },
     "execution_count": 189,
     "metadata": {},
     "output_type": "execute_result"
    }
   ],
   "source": [
    "playlist_df = create_playlist_df(top_globals_url)\n",
    "type(playlist_df[\"duration\"][0])"
   ]
  },
  {
   "cell_type": "code",
   "execution_count": null,
   "id": "e0b10071",
   "metadata": {},
   "outputs": [],
   "source": []
  }
 ],
 "metadata": {
  "kernelspec": {
   "display_name": "Python 3 (ipykernel)",
   "language": "python",
   "name": "python3"
  },
  "language_info": {
   "codemirror_mode": {
    "name": "ipython",
    "version": 3
   },
   "file_extension": ".py",
   "mimetype": "text/x-python",
   "name": "python",
   "nbconvert_exporter": "python",
   "pygments_lexer": "ipython3",
   "version": "3.8.8"
  }
 },
 "nbformat": 4,
 "nbformat_minor": 5
}
